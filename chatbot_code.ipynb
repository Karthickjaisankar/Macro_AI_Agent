{
 "cells": [
  {
   "cell_type": "code",
   "execution_count": 2,
   "id": "b65dfb5d",
   "metadata": {},
   "outputs": [
    {
     "name": "stderr",
     "output_type": "stream",
     "text": [
      "[nltk_data] Downloading package punkt to C:\\Users\\Karthick\n",
      "[nltk_data]     J\\AppData\\Roaming\\nltk_data...\n",
      "[nltk_data]   Package punkt is already up-to-date!\n",
      "[nltk_data] Downloading package averaged_perceptron_tagger to\n",
      "[nltk_data]     C:\\Users\\Karthick J\\AppData\\Roaming\\nltk_data...\n",
      "[nltk_data]   Package averaged_perceptron_tagger is already up-to-\n",
      "[nltk_data]       date!\n",
      "[nltk_data] Downloading package stopwords to C:\\Users\\Karthick\n",
      "[nltk_data]     J\\AppData\\Roaming\\nltk_data...\n",
      "[nltk_data]   Package stopwords is already up-to-date!\n"
     ]
    },
    {
     "data": {
      "text/plain": [
       "True"
      ]
     },
     "execution_count": 2,
     "metadata": {},
     "output_type": "execute_result"
    }
   ],
   "source": [
    "import nltk\n",
    "nltk.download('punkt') # For tokenization\n",
    "nltk.download('averaged_perceptron_tagger') # For POS tagging (optional but useful)\n",
    "nltk.download('stopwords') # Common words to ignore (optional)"
   ]
  },
  {
   "cell_type": "code",
   "execution_count": null,
   "id": "c81fa47d",
   "metadata": {},
   "outputs": [],
   "source": [
    "# chatbot.py\n",
    "import data_fetcher # Import our data functions\n",
    "import nltk\n",
    "import random\n",
    "\n",
    "# Basic keywords for intents\n",
    "GREETING_KEYWORDS = (\"hello\", \"hi\", \"greetings\", \"sup\", \"what's up\", \"hey\")\n",
    "FAREWELL_KEYWORDS = (\"bye\", \"goodbye\", \"quit\", \"exit\", \"see ya\")\n",
    "DEFINITION_KEYWORDS = (\"define\", \"definition\", \"what is\", \"explain\")\n",
    "DATA_KEYWORDS = (\"latest\", \"value\", \"number\", \"figure\", \"data\", \"rate\", \"level\")\n",
    "\n",
    "# Simple responses\n",
    "GREETING_RESPONSES = [\"Hello!\", \"Hi there!\", \"Greetings!\", \"How can I help you with macroeconomic data today?\"]\n",
    "FAREWELL_RESPONSES = [\"Goodbye!\", \"See you later!\", \"Have a great day!\"]\n",
    "UNKNOWN_RESPONSES = [\n",
    "    \"Sorry, I didn't quite understand that. Can you rephrase?\",\n",
    "    \"I'm not sure how to respond to that. Try asking for the 'latest value' or 'definition' of an indicator like GDP, CPI, or Unemployment Rate.\",\n",
    "    \"My apologies, I can only provide definitions or latest values for specific indicators right now.\"\n",
    "    ]\n",
    "\n",
    "def process_input(user_input):\n",
    "    \"\"\"\n",
    "    Analyzes user input to determine intent and entities (basic version).\n",
    "    Returns the chatbot's response.\n",
    "    \"\"\"\n",
    "    user_input_lower = user_input.lower()\n",
    "    tokens = nltk.word_tokenize(user_input_lower) # Split into words\n",
    "\n",
    "    # 1. Check for Greetings\n",
    "    if any(word in tokens for word in GREETING_KEYWORDS):\n",
    "        return random.choice(GREETING_RESPONSES)\n",
    "\n",
    "    # 2. Check for Farewells\n",
    "    if any(word in tokens for word in FAREWELL_KEYWORDS):\n",
    "        return random.choice(FAREWELL_RESPONSES) # Signal to exit loop later\n",
    "\n",
    "    # 3. Identify Intent (Definition vs. Data) & Entity (Indicator)\n",
    "    intent = None\n",
    "    entity = None\n",
    "\n",
    "    if any(word in tokens for word in DEFINITION_KEYWORDS):\n",
    "        intent = \"get_definition\"\n",
    "    elif any(word in tokens for word in DATA_KEYWORDS):\n",
    "        intent = \"get_data\"\n",
    "\n",
    "    # Find the indicator (entity) - check against our known indicators\n",
    "    for indicator_keyword in data_fetcher.indicator_map.keys():\n",
    "        # Check if the full keyword phrase is in the input\n",
    "        if indicator_keyword in user_input_lower:\n",
    "            entity = indicator_keyword\n",
    "            break # Take the first match found\n",
    "\n",
    "    # 4. Generate Response based on Intent and Entity\n",
    "    if intent == \"get_definition\" and entity:\n",
    "        return data_fetcher.get_definition(entity)\n",
    "    elif intent == \"get_data\" and entity:\n",
    "        indicator_details = data_fetcher.indicator_map.get(entity)\n",
    "        if indicator_details:\n",
    "            if indicator_details[\"source\"] == \"fred\":\n",
    "                return f\"The latest {entity} is: {data_fetcher.get_fred_series_latest(indicator_details['id'])}\"\n",
    "            elif indicator_details[\"source\"] == \"worldbank\":\n",
    "                # Add country handling if needed later\n",
    "                country = indicator_details.get('country', 'US')\n",
    "                return f\"The latest {entity} (World Bank, {country}) is: {data_fetcher.get_world_bank_indicator_latest(indicator_details['id'], country)}\"\n",
    "            else:\n",
    "                return f\"Sorry, I don't know how to fetch data for {entity} from '{indicator_details['source']}' yet.\"\n",
    "        else:\n",
    "            # This case shouldn't happen if entity mapping is correct, but good to have\n",
    "            return f\"Sorry, I recognized '{entity}' but couldn't find how to fetch its data.\"\n",
    "\n",
    "    # Fallback if intent/entity not clear or combination is invalid\n",
    "    if entity and not intent: # User mentioned indicator but not what they want\n",
    "         return f\"What would you like to know about {entity}? Try asking for the 'latest value' or 'definition'.\"\n",
    "    elif intent and not entity: # User asked for data/definition but not which indicator\n",
    "        return \"Which indicator are you interested in (e.g., Real GDP, CPI, Unemployment Rate)?\"\n",
    "    else: # Couldn't understand\n",
    "        return random.choice(UNKNOWN_RESPONSES)\n",
    "\n",
    "# Main chat loop\n",
    "if __name__ == \"__main__\":\n",
    "    print(random.choice(GREETING_RESPONSES) + \" (Type 'bye' to exit)\")\n",
    "    while True:\n",
    "        user_text = input(\"You: \")\n",
    "        response = process_input(user_text)\n",
    "        print(f\"Bot: {response}\")\n",
    "\n",
    "        # Check if the response is a farewell to break the loop\n",
    "        if response in FAREWELL_RESPONSES:\n",
    "            break"
   ]
  },
  {
   "cell_type": "code",
   "execution_count": null,
   "id": "c5f52177",
   "metadata": {},
   "outputs": [],
   "source": []
  }
 ],
 "metadata": {
  "kernelspec": {
   "display_name": "Python 3 (ipykernel)",
   "language": "python",
   "name": "python3"
  },
  "language_info": {
   "codemirror_mode": {
    "name": "ipython",
    "version": 3
   },
   "file_extension": ".py",
   "mimetype": "text/x-python",
   "name": "python",
   "nbconvert_exporter": "python",
   "pygments_lexer": "ipython3",
   "version": "3.9.12"
  }
 },
 "nbformat": 4,
 "nbformat_minor": 5
}
